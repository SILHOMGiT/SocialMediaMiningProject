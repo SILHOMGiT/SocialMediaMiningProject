{
 "cells": [
  {
   "cell_type": "code",
   "execution_count": 1,
   "metadata": {},
   "outputs": [],
   "source": [
    "import pandas as pd\n",
    "import numpy as np\n",
    "import sklearn\n",
    "import matplotlib.pyplot as plt"
   ]
  },
  {
   "cell_type": "code",
   "execution_count": 2,
   "metadata": {},
   "outputs": [],
   "source": [
    "import nltk\n",
    "from nltk.stem.porter import PorterStemmer\n",
    "from nltk.stem import WordNetLemmatizer\n",
    "from nltk.corpus import stopwords"
   ]
  },
  {
   "cell_type": "code",
   "execution_count": 3,
   "metadata": {},
   "outputs": [
    {
     "name": "stdout",
     "output_type": "stream",
     "text": [
      "showing info https://raw.githubusercontent.com/nltk/nltk_data/gh-pages/index.xml\n"
     ]
    },
    {
     "data": {
      "text/plain": [
       "True"
      ]
     },
     "execution_count": 3,
     "metadata": {},
     "output_type": "execute_result"
    }
   ],
   "source": [
    "nltk.download()"
   ]
  },
  {
   "cell_type": "code",
   "execution_count": 8,
   "metadata": {},
   "outputs": [],
   "source": [
    "data = pd.DataFrame.from_dict({'tweet': [\"Today I'm feeling loved\"], 'emotion': ['joy']})"
   ]
  },
  {
   "cell_type": "code",
   "execution_count": 9,
   "metadata": {},
   "outputs": [
    {
     "data": {
      "text/html": [
       "<div>\n",
       "<style scoped>\n",
       "    .dataframe tbody tr th:only-of-type {\n",
       "        vertical-align: middle;\n",
       "    }\n",
       "\n",
       "    .dataframe tbody tr th {\n",
       "        vertical-align: top;\n",
       "    }\n",
       "\n",
       "    .dataframe thead th {\n",
       "        text-align: right;\n",
       "    }\n",
       "</style>\n",
       "<table border=\"1\" class=\"dataframe\">\n",
       "  <thead>\n",
       "    <tr style=\"text-align: right;\">\n",
       "      <th></th>\n",
       "      <th>tweet</th>\n",
       "      <th>emotion</th>\n",
       "    </tr>\n",
       "  </thead>\n",
       "  <tbody>\n",
       "    <tr>\n",
       "      <th>0</th>\n",
       "      <td>Today I'm feeling loved</td>\n",
       "      <td>joy</td>\n",
       "    </tr>\n",
       "  </tbody>\n",
       "</table>\n",
       "</div>"
      ],
      "text/plain": [
       "                     tweet emotion\n",
       "0  Today I'm feeling loved     joy"
      ]
     },
     "execution_count": 9,
     "metadata": {},
     "output_type": "execute_result"
    }
   ],
   "source": [
    "data.head()"
   ]
  },
  {
   "cell_type": "code",
   "execution_count": 12,
   "metadata": {},
   "outputs": [
    {
     "data": {
      "text/html": [
       "<div>\n",
       "<style scoped>\n",
       "    .dataframe tbody tr th:only-of-type {\n",
       "        vertical-align: middle;\n",
       "    }\n",
       "\n",
       "    .dataframe tbody tr th {\n",
       "        vertical-align: top;\n",
       "    }\n",
       "\n",
       "    .dataframe thead th {\n",
       "        text-align: right;\n",
       "    }\n",
       "</style>\n",
       "<table border=\"1\" class=\"dataframe\">\n",
       "  <thead>\n",
       "    <tr style=\"text-align: right;\">\n",
       "      <th></th>\n",
       "      <th>tweet</th>\n",
       "      <th>emotion</th>\n",
       "      <th>lem_text</th>\n",
       "      <th>proc_text</th>\n",
       "    </tr>\n",
       "  </thead>\n",
       "  <tbody>\n",
       "    <tr>\n",
       "      <th>0</th>\n",
       "      <td>Today I'm feeling loved</td>\n",
       "      <td>joy</td>\n",
       "      <td>today I feel love</td>\n",
       "      <td>today I feel love</td>\n",
       "    </tr>\n",
       "  </tbody>\n",
       "</table>\n",
       "</div>"
      ],
      "text/plain": [
       "                     tweet emotion           lem_text          proc_text\n",
       "0  Today I'm feeling loved     joy  today I feel love  today I feel love"
      ]
     },
     "execution_count": 12,
     "metadata": {},
     "output_type": "execute_result"
    }
   ],
   "source": [
    "stemmer = PorterStemmer()\n",
    "lemmatizer = WordNetLemmatizer()\n",
    "\n",
    "for idx, row in data.iterrows():\n",
    "    words = nltk.word_tokenize(row['tweet'])\n",
    "    words = [word for word in words if word.isalpha()]\n",
    "    #data.loc[idx, 'lem_text'] = ' '.join([lemmatizer.lemmatize(word) for word in words if word not in set(stopwords.words('english'))])\n",
    "    words = [stemmer.stem(word) for word in words if word not in set(stopwords.words('english'))]\n",
    "    data.loc[idx, 'lem_text'] = ' '.join([lemmatizer.lemmatize(word) for word in words if word not in set(stopwords.words('english'))])\n",
    "    data.loc[idx, 'proc_text'] = ' '.join(words)\n",
    "    \n",
    "\n",
    "data.head()"
   ]
  },
  {
   "cell_type": "code",
   "execution_count": 16,
   "metadata": {},
   "outputs": [
    {
     "name": "stdout",
     "output_type": "stream",
     "text": [
      "[0.         0.         0.         0.51785612 0.68091856 0.51785612]\n",
      "[0.57735027 0.         0.         0.57735027 0.         0.57735027]\n",
      "[0.4736296  0.62276601 0.62276601 0.         0.         0.        ]\n"
     ]
    }
   ],
   "source": [
    "# TF-IDF\n",
    "import pandas as pd\n",
    "from sklearn.feature_extraction.text import TfidfVectorizer\n",
    "\n",
    "#s1 = \"The boat is sailing in the stream.\"\n",
    "#s2 = \"The ship is sailing in the ocean.\"\n",
    "s1 = \"social media mining\"\n",
    "s2 = \"social media data\"\n",
    "s3 = \"financial market data\"\n",
    "df = pd.DataFrame(data=[s1, s2, s3], columns=['text'])\n",
    "\n",
    "\n",
    "cv = TfidfVectorizer(max_features=2000)\n",
    "X2 = cv.fit_transform(df.text).toarray()\n",
    "\n",
    "for _ in X2:\n",
    "    print(_)\n",
    "\n",
    "'data': 0 'financial': 1, 'market': 2 'media': 3, 'mining': 4, 'social': 5"
   ]
  },
  {
   "cell_type": "code",
   "execution_count": 17,
   "metadata": {},
   "outputs": [
    {
     "name": "stdout",
     "output_type": "stream",
     "text": [
      "{'social': 5, 'media': 3, 'mining': 4, 'data': 0, 'financial': 1, 'market': 2}\n",
      "(3, 6)\n"
     ]
    }
   ],
   "source": [
    "vocab = cv.vocabulary_\n",
    "print(vocab)\n",
    "print(X2.shape)"
   ]
  },
  {
   "cell_type": "code",
   "execution_count": 18,
   "metadata": {},
   "outputs": [
    {
     "name": "stdout",
     "output_type": "stream",
     "text": [
      "[('social', 1.095206385357323), ('media', 1.095206385357323), ('data', 1.050979870222894), ('mining', 0.680918560398684), ('market', 0.6227660078332259), ('financial', 0.6227660078332259)]\n"
     ]
    }
   ],
   "source": [
    "vocab = cv.vocabulary_\n",
    "\n",
    "count_values = X2.sum(axis=0)\n",
    "temp = []\n",
    "for i, (ng_count, ng_text) in enumerate(sorted([(count_values[i],k) for k,i in vocab.items()], reverse=True)):\n",
    "    temp.append((ng_text, ng_count))\n",
    "    if i == 30:\n",
    "        break\n",
    "print(temp)"
   ]
  },
  {
   "cell_type": "code",
   "execution_count": null,
   "metadata": {},
   "outputs": [],
   "source": []
  }
 ],
 "metadata": {
  "kernelspec": {
   "display_name": "Python [conda env:social_media_mining] *",
   "language": "python",
   "name": "conda-env-social_media_mining-py"
  },
  "language_info": {
   "codemirror_mode": {
    "name": "ipython",
    "version": 3
   },
   "file_extension": ".py",
   "mimetype": "text/x-python",
   "name": "python",
   "nbconvert_exporter": "python",
   "pygments_lexer": "ipython3",
   "version": "3.8.5"
  }
 },
 "nbformat": 4,
 "nbformat_minor": 4
}
